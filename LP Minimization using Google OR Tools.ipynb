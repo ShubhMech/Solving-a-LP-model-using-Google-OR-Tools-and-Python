{
 "cells": [
  {
   "cell_type": "code",
   "execution_count": 35,
   "id": "1fc8010c-cc7b-47b4-a863-873e438d3c81",
   "metadata": {},
   "outputs": [],
   "source": [
    "import ortools.linear_solver.pywraplp  as pw"
   ]
  },
  {
   "cell_type": "code",
   "execution_count": 36,
   "id": "ffbcd73d-f3d4-46a8-96b9-79714bb960b7",
   "metadata": {},
   "outputs": [],
   "source": [
    "solver=pw.Solver.CreateSolver('GLOP')"
   ]
  },
  {
   "cell_type": "code",
   "execution_count": 37,
   "id": "e836cd18-4c2a-456c-914b-ff770c33af5a",
   "metadata": {},
   "outputs": [],
   "source": [
    "x=solver.NumVar(0,10,'x')"
   ]
  },
  {
   "cell_type": "code",
   "execution_count": 38,
   "id": "0b0d0cd4-c969-4ddd-a8ae-41e87214f6a8",
   "metadata": {},
   "outputs": [],
   "source": [
    "y=solver.NumVar(0,10,'y')"
   ]
  },
  {
   "cell_type": "code",
   "execution_count": 39,
   "id": "28fa78ab-8b27-4a4a-b27a-39798ac60675",
   "metadata": {},
   "outputs": [
    {
     "data": {
      "text/plain": [
       "<ortools.linear_solver.pywraplp.Constraint; proxy of <Swig Object of type 'operations_research::MPConstraint *' at 0x0000013DAD8C3AB0> >"
      ]
     },
     "execution_count": 39,
     "metadata": {},
     "output_type": "execute_result"
    }
   ],
   "source": [
    "solver.Add(-x+2*y<=8)"
   ]
  },
  {
   "cell_type": "code",
   "execution_count": 40,
   "id": "5c854fca-57e5-4727-9f48-e8c03ba5da35",
   "metadata": {},
   "outputs": [
    {
     "data": {
      "text/plain": [
       "<ortools.linear_solver.pywraplp.Constraint; proxy of <Swig Object of type 'operations_research::MPConstraint *' at 0x0000013DAD8B1420> >"
      ]
     },
     "execution_count": 40,
     "metadata": {},
     "output_type": "execute_result"
    }
   ],
   "source": [
    "solver.Add(2*x+y<=14)"
   ]
  },
  {
   "cell_type": "code",
   "execution_count": 41,
   "id": "466d8df2-e3af-441c-a9db-9830df375c53",
   "metadata": {},
   "outputs": [
    {
     "data": {
      "text/plain": [
       "<ortools.linear_solver.pywraplp.Constraint; proxy of <Swig Object of type 'operations_research::MPConstraint *' at 0x0000013DAD8B1900> >"
      ]
     },
     "execution_count": 41,
     "metadata": {},
     "output_type": "execute_result"
    }
   ],
   "source": [
    "solver.Add(2*x-y<=10)"
   ]
  },
  {
   "cell_type": "code",
   "execution_count": 42,
   "id": "4014aec2-1860-4ae3-a6d8-91424e866f63",
   "metadata": {},
   "outputs": [],
   "source": [
    "solver.Minimize(x+y)"
   ]
  },
  {
   "cell_type": "code",
   "execution_count": 43,
   "id": "9692a1d0-24e7-42d1-bcde-add45d8a500e",
   "metadata": {},
   "outputs": [],
   "source": [
    "result= solver.Solve()"
   ]
  },
  {
   "cell_type": "code",
   "execution_count": 44,
   "id": "7353ac6f-d44b-482a-b459-55506c1218b1",
   "metadata": {},
   "outputs": [
    {
     "name": "stdout",
     "output_type": "stream",
     "text": [
      "The solution to above maximisation LP is; x: 0.0  and y:  0.0\n"
     ]
    }
   ],
   "source": [
    "print(\"The solution to above maximisation LP is; x:\", x.solution_value(), \" and y: \", y.solution_value())"
   ]
  },
  {
   "cell_type": "code",
   "execution_count": 45,
   "id": "68d2f4ea-7cb7-4aeb-949a-9a6c57934736",
   "metadata": {},
   "outputs": [
    {
     "data": {
      "text/plain": [
       "0"
      ]
     },
     "execution_count": 45,
     "metadata": {},
     "output_type": "execute_result"
    }
   ],
   "source": [
    "result"
   ]
  },
  {
   "cell_type": "code",
   "execution_count": 46,
   "id": "db886566-e3be-4197-9763-c624341faaf5",
   "metadata": {},
   "outputs": [
    {
     "data": {
      "text/plain": [
       "0"
      ]
     },
     "execution_count": 46,
     "metadata": {},
     "output_type": "execute_result"
    }
   ],
   "source": [
    "pw.Solver.OPTIMAL"
   ]
  },
  {
   "cell_type": "code",
   "execution_count": null,
   "id": "5fe13e21-1247-468e-bff1-72bda165d0be",
   "metadata": {},
   "outputs": [],
   "source": []
  },
  {
   "cell_type": "code",
   "execution_count": null,
   "id": "130f2d3d-27cb-46ce-8caa-2f8680cebb5d",
   "metadata": {},
   "outputs": [],
   "source": []
  }
 ],
 "metadata": {
  "kernelspec": {
   "display_name": "Python 3",
   "language": "python",
   "name": "python3"
  },
  "language_info": {
   "codemirror_mode": {
    "name": "ipython",
    "version": 3
   },
   "file_extension": ".py",
   "mimetype": "text/x-python",
   "name": "python",
   "nbconvert_exporter": "python",
   "pygments_lexer": "ipython3",
   "version": "3.8.5"
  }
 },
 "nbformat": 4,
 "nbformat_minor": 5
}
